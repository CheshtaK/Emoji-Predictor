{
 "cells": [
  {
   "cell_type": "markdown",
   "metadata": {},
   "source": [
    "## Get the emoji package"
   ]
  },
  {
   "cell_type": "code",
   "execution_count": 1,
   "metadata": {},
   "outputs": [],
   "source": [
    "import emoji"
   ]
  },
  {
   "cell_type": "code",
   "execution_count": 2,
   "metadata": {},
   "outputs": [],
   "source": [
    "emoji_dictionary = {'0': '\\u2764\\uFE0F',\n",
    "                    '1': ':baseball:',\n",
    "                    '2': ':grinning_face_with_big_eyes:',\n",
    "                    '3': ':disappointed_face:',\n",
    "                    '4': ':fork_and_knife:',\n",
    "                    '5': ':hundred_points:',\n",
    "                    '6': ':fire:',\n",
    "                    '7': ':face_blowing_a_kiss:',\n",
    "                    '8': ':chestnut:',\n",
    "                    '9': ':flexed_biceps:'}"
   ]
  },
  {
   "cell_type": "code",
   "execution_count": 3,
   "metadata": {},
   "outputs": [
    {
     "name": "stdout",
     "output_type": "stream",
     "text": [
      "❤️\n",
      "⚾\n",
      "😃\n",
      "😞\n",
      "🍴\n",
      "💯\n",
      "🔥\n",
      "😘\n",
      "🌰\n",
      "💪\n"
     ]
    }
   ],
   "source": [
    "for e in emoji_dictionary.values(): \n",
    "    print(emoji.emojize(e))"
   ]
  },
  {
   "cell_type": "markdown",
   "metadata": {},
   "source": [
    "## Processing a Custom Dataset"
   ]
  },
  {
   "cell_type": "code",
   "execution_count": 4,
   "metadata": {},
   "outputs": [],
   "source": [
    "import pandas as pd\n",
    "import numpy as np"
   ]
  },
  {
   "cell_type": "code",
   "execution_count": 5,
   "metadata": {},
   "outputs": [],
   "source": [
    "train = pd.read_csv('train_emoji.csv', header=None)\n",
    "test = pd.read_csv('test_emoji.csv', header=None)"
   ]
  },
  {
   "cell_type": "code",
   "execution_count": 6,
   "metadata": {},
   "outputs": [
    {
     "data": {
      "text/html": [
       "<div>\n",
       "<style scoped>\n",
       "    .dataframe tbody tr th:only-of-type {\n",
       "        vertical-align: middle;\n",
       "    }\n",
       "\n",
       "    .dataframe tbody tr th {\n",
       "        vertical-align: top;\n",
       "    }\n",
       "\n",
       "    .dataframe thead th {\n",
       "        text-align: right;\n",
       "    }\n",
       "</style>\n",
       "<table border=\"1\" class=\"dataframe\">\n",
       "  <thead>\n",
       "    <tr style=\"text-align: right;\">\n",
       "      <th></th>\n",
       "      <th>0</th>\n",
       "      <th>1</th>\n",
       "      <th>2</th>\n",
       "      <th>3</th>\n",
       "    </tr>\n",
       "  </thead>\n",
       "  <tbody>\n",
       "    <tr>\n",
       "      <th>0</th>\n",
       "      <td>never talk to me again</td>\n",
       "      <td>3</td>\n",
       "      <td>NaN</td>\n",
       "      <td>NaN</td>\n",
       "    </tr>\n",
       "    <tr>\n",
       "      <th>1</th>\n",
       "      <td>I am proud of your achievements</td>\n",
       "      <td>2</td>\n",
       "      <td>NaN</td>\n",
       "      <td>NaN</td>\n",
       "    </tr>\n",
       "    <tr>\n",
       "      <th>2</th>\n",
       "      <td>It is the worst day in my life</td>\n",
       "      <td>3</td>\n",
       "      <td>NaN</td>\n",
       "      <td>NaN</td>\n",
       "    </tr>\n",
       "    <tr>\n",
       "      <th>3</th>\n",
       "      <td>Miss you so much</td>\n",
       "      <td>0</td>\n",
       "      <td>NaN</td>\n",
       "      <td>[0]</td>\n",
       "    </tr>\n",
       "    <tr>\n",
       "      <th>4</th>\n",
       "      <td>food is life</td>\n",
       "      <td>4</td>\n",
       "      <td>NaN</td>\n",
       "      <td>NaN</td>\n",
       "    </tr>\n",
       "  </tbody>\n",
       "</table>\n",
       "</div>"
      ],
      "text/plain": [
       "                                 0  1   2     3\n",
       "0           never talk to me again  3 NaN   NaN\n",
       "1  I am proud of your achievements  2 NaN   NaN\n",
       "2   It is the worst day in my life  3 NaN   NaN\n",
       "3                 Miss you so much  0 NaN   [0]\n",
       "4                     food is life  4 NaN   NaN"
      ]
     },
     "execution_count": 6,
     "metadata": {},
     "output_type": "execute_result"
    }
   ],
   "source": [
    "train.head()"
   ]
  },
  {
   "cell_type": "code",
   "execution_count": 7,
   "metadata": {},
   "outputs": [
    {
     "name": "stdout",
     "output_type": "stream",
     "text": [
      "(132, 4)\n"
     ]
    }
   ],
   "source": [
    "#Printing sentences with emojis\n",
    "data = train.values\n",
    "print(data.shape)"
   ]
  },
  {
   "cell_type": "code",
   "execution_count": 8,
   "metadata": {},
   "outputs": [],
   "source": [
    "X_train = train[0]\n",
    "Y_train = train[1]\n",
    "\n",
    "X_test = test[0]\n",
    "Y_test = test[1]"
   ]
  },
  {
   "cell_type": "code",
   "execution_count": 11,
   "metadata": {},
   "outputs": [
    {
     "name": "stdout",
     "output_type": "stream",
     "text": [
      "never talk to me again 😞\n",
      "I am proud of your achievements 😃\n",
      "It is the worst day in my life 😞\n",
      "Miss you so much ❤️\n",
      "food is life 🍴\n"
     ]
    }
   ],
   "source": [
    "for i in range(5):\n",
    "    print(X_train[i], emoji.emojize(emoji_dictionary[str(Y_train[i])]))"
   ]
  },
  {
   "cell_type": "markdown",
   "metadata": {},
   "source": [
    "## Getting the Glove Vectors"
   ]
  },
  {
   "cell_type": "code",
   "execution_count": 15,
   "metadata": {},
   "outputs": [],
   "source": [
    "f = open('glove.6B.50d.txt', encoding='utf-8')"
   ]
  },
  {
   "cell_type": "code",
   "execution_count": 16,
   "metadata": {},
   "outputs": [],
   "source": [
    "embeddings_index = {}\n",
    "\n",
    "for line in f:\n",
    "    values = line.split()\n",
    "    word = values[0]\n",
    "    coefs = np.asarray(values[1:], dtype='float')\n",
    "    embeddings_index[word] = coefs\n",
    "    \n",
    "f.close()"
   ]
  },
  {
   "cell_type": "code",
   "execution_count": 18,
   "metadata": {},
   "outputs": [
    {
     "name": "stdout",
     "output_type": "stream",
     "text": [
      "50\n"
     ]
    }
   ],
   "source": [
    "emb_dim = embeddings_index['eat'].shape[0]\n",
    "print(emb_dim)"
   ]
  },
  {
   "cell_type": "markdown",
   "metadata": {},
   "source": [
    "## Converting sentences into vectors (Embedding Layer Output)"
   ]
  },
  {
   "cell_type": "code",
   "execution_count": 19,
   "metadata": {},
   "outputs": [],
   "source": [
    "def embedding_output(X):\n",
    "    maxLen = 10\n",
    "    embedding_out = np.zeros((X.shape[0], maxLen, emb_dim))\n",
    "    \n",
    "    for ix in range(X.shape[0]):\n",
    "        X[ix] = X[ix].split()\n",
    "        \n",
    "        for ij in range(len(X[ix])):\n",
    "            try:\n",
    "                embedding_out[ix][ij] = embeddings_index[X[ix][ij].lower()]\n",
    "            except:\n",
    "                embedding_out[ix][ij] = np.zeros((50,))\n",
    "    \n",
    "    return embedding_out"
   ]
  },
  {
   "cell_type": "code",
   "execution_count": 20,
   "metadata": {},
   "outputs": [
    {
     "name": "stderr",
     "output_type": "stream",
     "text": [
      "c:\\users\\chesh\\appdata\\local\\programs\\python\\python36\\lib\\site-packages\\ipykernel_launcher.py:6: SettingWithCopyWarning: \n",
      "A value is trying to be set on a copy of a slice from a DataFrame\n",
      "\n",
      "See the caveats in the documentation: http://pandas.pydata.org/pandas-docs/stable/indexing.html#indexing-view-versus-copy\n",
      "  \n"
     ]
    }
   ],
   "source": [
    "embeddings_matrix_train = embedding_output(X_train)\n",
    "embeddings_matrix_test = embedding_output(X_test)"
   ]
  },
  {
   "cell_type": "code",
   "execution_count": 21,
   "metadata": {
    "scrolled": true
   },
   "outputs": [
    {
     "name": "stdout",
     "output_type": "stream",
     "text": [
      "(132, 10, 50)\n",
      "(56, 10, 50)\n"
     ]
    }
   ],
   "source": [
    "print(embeddings_matrix_train.shape)\n",
    "print(embeddings_matrix_test.shape)"
   ]
  },
  {
   "cell_type": "code",
   "execution_count": 23,
   "metadata": {},
   "outputs": [],
   "source": [
    "from keras.utils import to_categorical"
   ]
  },
  {
   "cell_type": "code",
   "execution_count": 24,
   "metadata": {},
   "outputs": [],
   "source": [
    "Y_train = to_categorical(Y_train, num_classes=5)\n",
    "Y_test = to_categorical(Y_test, num_classes=5)"
   ]
  },
  {
   "cell_type": "markdown",
   "metadata": {},
   "source": [
    "## Define the RNN/LSTM Model"
   ]
  },
  {
   "cell_type": "code",
   "execution_count": 34,
   "metadata": {},
   "outputs": [],
   "source": [
    "from keras.models import Sequential\n",
    "from keras.layers import *\n",
    "from keras.callbacks import EarlyStopping, ModelCheckpoint"
   ]
  },
  {
   "cell_type": "code",
   "execution_count": 56,
   "metadata": {},
   "outputs": [
    {
     "name": "stdout",
     "output_type": "stream",
     "text": [
      "_________________________________________________________________\n",
      "Layer (type)                 Output Shape              Param #   \n",
      "=================================================================\n",
      "lstm_8 (LSTM)                (None, 10, 64)            29440     \n",
      "_________________________________________________________________\n",
      "dropout_8 (Dropout)          (None, 10, 64)            0         \n",
      "_________________________________________________________________\n",
      "lstm_9 (LSTM)                (None, 64)                33024     \n",
      "_________________________________________________________________\n",
      "dropout_9 (Dropout)          (None, 64)                0         \n",
      "_________________________________________________________________\n",
      "dense_8 (Dense)              (None, 5)                 325       \n",
      "_________________________________________________________________\n",
      "activation_8 (Activation)    (None, 5)                 0         \n",
      "=================================================================\n",
      "Total params: 62,789\n",
      "Trainable params: 62,789\n",
      "Non-trainable params: 0\n",
      "_________________________________________________________________\n"
     ]
    }
   ],
   "source": [
    "model = Sequential()\n",
    "model.add(LSTM(64,input_shape=(10,50),return_sequences=True))\n",
    "model.add(Dropout(0.5))\n",
    "model.add(LSTM(64,return_sequences=False))\n",
    "model.add(Dropout(0.5))\n",
    "model.add(Dense(5))\n",
    "model.add(Activation('softmax'))\n",
    "model.compile(loss='categorical_crossentropy', optimizer='adam', metrics=['accuracy'])\n",
    "model.summary()"
   ]
  },
  {
   "cell_type": "code",
   "execution_count": 57,
   "metadata": {},
   "outputs": [
    {
     "name": "stdout",
     "output_type": "stream",
     "text": [
      "Train on 105 samples, validate on 27 samples\n",
      "Epoch 1/100\n",
      "105/105 [==============================] - 2s 23ms/step - loss: 1.6195 - acc: 0.2381 - val_loss: 1.6230 - val_acc: 0.1852\n",
      "Epoch 2/100\n",
      "105/105 [==============================] - 0s 437us/step - loss: 1.5869 - acc: 0.2857 - val_loss: 1.6214 - val_acc: 0.2222\n",
      "Epoch 3/100\n",
      "105/105 [==============================] - 0s 418us/step - loss: 1.5522 - acc: 0.2952 - val_loss: 1.6238 - val_acc: 0.1852\n",
      "Epoch 4/100\n",
      "105/105 [==============================] - 0s 446us/step - loss: 1.5201 - acc: 0.3714 - val_loss: 1.6323 - val_acc: 0.1852\n",
      "Epoch 5/100\n",
      "105/105 [==============================] - 0s 456us/step - loss: 1.5007 - acc: 0.4000 - val_loss: 1.6466 - val_acc: 0.2222\n",
      "Epoch 6/100\n",
      "105/105 [==============================] - 0s 513us/step - loss: 1.5003 - acc: 0.3714 - val_loss: 1.6591 - val_acc: 0.2222\n",
      "Epoch 7/100\n",
      "105/105 [==============================] - 0s 408us/step - loss: 1.4680 - acc: 0.3905 - val_loss: 1.6699 - val_acc: 0.2222\n",
      "Epoch 8/100\n",
      "105/105 [==============================] - 0s 513us/step - loss: 1.4492 - acc: 0.3714 - val_loss: 1.6775 - val_acc: 0.2222\n",
      "Epoch 9/100\n",
      "105/105 [==============================] - 0s 389us/step - loss: 1.4795 - acc: 0.3143 - val_loss: 1.6739 - val_acc: 0.2222\n",
      "Epoch 10/100\n",
      "105/105 [==============================] - 0s 475us/step - loss: 1.4486 - acc: 0.4095 - val_loss: 1.6616 - val_acc: 0.2222\n",
      "Epoch 11/100\n",
      "105/105 [==============================] - 0s 494us/step - loss: 1.4303 - acc: 0.4190 - val_loss: 1.6416 - val_acc: 0.2593\n",
      "Epoch 12/100\n",
      "105/105 [==============================] - 0s 427us/step - loss: 1.3676 - acc: 0.4190 - val_loss: 1.6174 - val_acc: 0.2593\n",
      "Epoch 13/100\n",
      "105/105 [==============================] - 0s 456us/step - loss: 1.3978 - acc: 0.4286 - val_loss: 1.5915 - val_acc: 0.2963\n",
      "Epoch 14/100\n",
      "105/105 [==============================] - 0s 456us/step - loss: 1.3209 - acc: 0.4952 - val_loss: 1.5609 - val_acc: 0.2963\n",
      "Epoch 15/100\n",
      "105/105 [==============================] - 0s 456us/step - loss: 1.2966 - acc: 0.5143 - val_loss: 1.5201 - val_acc: 0.2963\n",
      "Epoch 16/100\n",
      "105/105 [==============================] - 0s 484us/step - loss: 1.2561 - acc: 0.5619 - val_loss: 1.4815 - val_acc: 0.3333\n",
      "Epoch 17/100\n",
      "105/105 [==============================] - 0s 541us/step - loss: 1.1988 - acc: 0.5905 - val_loss: 1.4484 - val_acc: 0.2593\n",
      "Epoch 18/100\n",
      "105/105 [==============================] - 0s 361us/step - loss: 1.1582 - acc: 0.5905 - val_loss: 1.4127 - val_acc: 0.3704\n",
      "Epoch 19/100\n",
      "105/105 [==============================] - 0s 342us/step - loss: 1.0861 - acc: 0.6000 - val_loss: 1.3858 - val_acc: 0.4074\n",
      "Epoch 20/100\n",
      "105/105 [==============================] - 0s 399us/step - loss: 1.0097 - acc: 0.6667 - val_loss: 1.3492 - val_acc: 0.4444\n",
      "Epoch 21/100\n",
      "105/105 [==============================] - 0s 589us/step - loss: 0.9409 - acc: 0.6571 - val_loss: 1.3179 - val_acc: 0.4444\n",
      "Epoch 22/100\n",
      "105/105 [==============================] - 0s 484us/step - loss: 0.9007 - acc: 0.6857 - val_loss: 1.3304 - val_acc: 0.4815\n",
      "Epoch 23/100\n",
      "105/105 [==============================] - 0s 437us/step - loss: 0.8493 - acc: 0.6476 - val_loss: 1.2336 - val_acc: 0.4444\n",
      "Epoch 24/100\n",
      "105/105 [==============================] - 0s 475us/step - loss: 0.7951 - acc: 0.7238 - val_loss: 1.1966 - val_acc: 0.5185\n",
      "Epoch 25/100\n",
      "105/105 [==============================] - 0s 541us/step - loss: 0.8116 - acc: 0.6857 - val_loss: 1.1265 - val_acc: 0.5185\n",
      "Epoch 26/100\n",
      "105/105 [==============================] - 0s 475us/step - loss: 0.6800 - acc: 0.8190 - val_loss: 1.2224 - val_acc: 0.5556\n",
      "Epoch 27/100\n",
      "105/105 [==============================] - 0s 446us/step - loss: 0.7063 - acc: 0.7524 - val_loss: 1.1507 - val_acc: 0.5926\n",
      "Epoch 28/100\n",
      "105/105 [==============================] - 0s 494us/step - loss: 0.6952 - acc: 0.7619 - val_loss: 0.9854 - val_acc: 0.6296\n",
      "Epoch 29/100\n",
      "105/105 [==============================] - 0s 399us/step - loss: 0.6056 - acc: 0.7714 - val_loss: 0.9674 - val_acc: 0.6296\n",
      "Epoch 30/100\n",
      "105/105 [==============================] - 0s 570us/step - loss: 0.6278 - acc: 0.8190 - val_loss: 0.9716 - val_acc: 0.5926\n",
      "Epoch 31/100\n",
      "105/105 [==============================] - 0s 475us/step - loss: 0.5596 - acc: 0.8095 - val_loss: 0.9728 - val_acc: 0.5926\n",
      "Epoch 32/100\n",
      "105/105 [==============================] - 0s 494us/step - loss: 0.5057 - acc: 0.8571 - val_loss: 0.9493 - val_acc: 0.5556\n",
      "Epoch 33/100\n",
      "105/105 [==============================] - 0s 437us/step - loss: 0.3989 - acc: 0.9048 - val_loss: 0.9900 - val_acc: 0.6296\n",
      "Epoch 34/100\n",
      "105/105 [==============================] - 0s 465us/step - loss: 0.4740 - acc: 0.8476 - val_loss: 1.0105 - val_acc: 0.6296\n",
      "Epoch 35/100\n",
      "105/105 [==============================] - 0s 446us/step - loss: 0.4105 - acc: 0.8571 - val_loss: 1.0683 - val_acc: 0.5926\n",
      "Epoch 36/100\n",
      "105/105 [==============================] - 0s 427us/step - loss: 0.3785 - acc: 0.8857 - val_loss: 0.9923 - val_acc: 0.6296\n",
      "Epoch 37/100\n",
      "105/105 [==============================] - 0s 532us/step - loss: 0.3628 - acc: 0.8857 - val_loss: 1.0550 - val_acc: 0.5926\n",
      "Epoch 38/100\n",
      "105/105 [==============================] - 0s 446us/step - loss: 0.2740 - acc: 0.9238 - val_loss: 1.1620 - val_acc: 0.5556\n",
      "Epoch 39/100\n",
      "105/105 [==============================] - 0s 579us/step - loss: 0.2414 - acc: 0.9429 - val_loss: 1.2893 - val_acc: 0.5926\n",
      "Epoch 40/100\n",
      "105/105 [==============================] - 0s 399us/step - loss: 0.3047 - acc: 0.9048 - val_loss: 1.3272 - val_acc: 0.5926\n",
      "Epoch 41/100\n",
      "105/105 [==============================] - 0s 475us/step - loss: 0.2452 - acc: 0.9333 - val_loss: 1.3776 - val_acc: 0.5556\n",
      "Epoch 42/100\n",
      "105/105 [==============================] - 0s 617us/step - loss: 0.2075 - acc: 0.9524 - val_loss: 1.4721 - val_acc: 0.5926\n"
     ]
    }
   ],
   "source": [
    "earlystop = EarlyStopping(monitor='val_loss', patience=10)\n",
    "hist = model.fit(embeddings_matrix_train, Y_train, epochs=100, batch_size=64, shuffle=True, validation_split=0.2, callbacks=[earlystop])"
   ]
  },
  {
   "cell_type": "code",
   "execution_count": 58,
   "metadata": {},
   "outputs": [],
   "source": [
    "pred = model.predict_classes(embeddings_matrix_test)"
   ]
  },
  {
   "cell_type": "code",
   "execution_count": 59,
   "metadata": {},
   "outputs": [
    {
     "name": "stdout",
     "output_type": "stream",
     "text": [
      "[4 3 2 0 2 2 1 2 4 2 1 2 0 2 1 3 2 2 3 2 0 0 4 2 3 1 2 0 4 2 0 1 0 2 0 2 2\n",
      " 4 4 2 1 0 0 2 2 0 2 2 0 1 3 0 3 2 2 0]\n"
     ]
    }
   ],
   "source": [
    "print(pred)"
   ]
  },
  {
   "cell_type": "code",
   "execution_count": 60,
   "metadata": {},
   "outputs": [
    {
     "name": "stdout",
     "output_type": "stream",
     "text": [
      "56/56 [==============================] - 0s 267us/step\n"
     ]
    },
    {
     "data": {
      "text/plain": [
       "[1.5770921536854334, 0.6250000085149493]"
      ]
     },
     "execution_count": 60,
     "metadata": {},
     "output_type": "execute_result"
    }
   ],
   "source": [
    "model.evaluate(embeddings_matrix_test, Y_test)"
   ]
  },
  {
   "cell_type": "markdown",
   "metadata": {},
   "source": [
    "## Outputting the predicted emojis"
   ]
  },
  {
   "cell_type": "code",
   "execution_count": 61,
   "metadata": {},
   "outputs": [
    {
     "name": "stdout",
     "output_type": "stream",
     "text": [
      "I want to eat\n",
      "🍴\n",
      "🍴\n",
      "he did not answer\n",
      "😞\n",
      "😞\n",
      "he got a raise\n",
      "😃\n",
      "😃\n",
      "she got me a present\n",
      "❤️\n",
      "❤️\n",
      "ha ha ha it was so funny\n",
      "😃\n",
      "😃\n",
      "he is a good friend\n",
      "❤️\n",
      "😃\n",
      "I am upset\n",
      "❤️\n",
      "⚾\n",
      "We had such a lovely dinner tonight\n",
      "❤️\n",
      "😃\n",
      "where is the food\n",
      "🍴\n",
      "🍴\n",
      "Stop making this joke ha ha ha\n",
      "😃\n",
      "😃\n",
      "where is the ball\n",
      "⚾\n",
      "⚾\n",
      "work is hard\n",
      "😞\n",
      "😃\n",
      "This girl is messing with me\n",
      "😞\n",
      "❤️\n",
      "are you serious ha ha\n",
      "😃\n",
      "😃\n",
      "Let us go play baseball\n",
      "⚾\n",
      "⚾\n",
      "This stupid grader is not working\n",
      "😞\n",
      "😞\n",
      "work is horrible\n",
      "😞\n",
      "😃\n",
      "Congratulation for having a baby\n",
      "😃\n",
      "😃\n",
      "stop messing around\n",
      "😞\n",
      "😞\n",
      "any suggestions for dinner\n",
      "🍴\n",
      "😃\n",
      "I love taking breaks\n",
      "❤️\n",
      "❤️\n",
      "you brighten my day\n",
      "😃\n",
      "❤️\n",
      "I boiled rice\n",
      "🍴\n",
      "🍴\n",
      "she is a bully\n",
      "😞\n",
      "😃\n",
      "Why are you feeling bad\n",
      "😞\n",
      "😞\n",
      "I am upset\n",
      "😞\n",
      "⚾\n",
      "I worked during my birthday\n",
      "😞\n",
      "😃\n",
      "My grandmother is the love of my life\n",
      "❤️\n",
      "❤️\n",
      "enjoy your break\n",
      "😃\n",
      "🍴\n",
      "valentine day is near\n",
      "❤️\n",
      "😃\n"
     ]
    }
   ],
   "source": [
    "for i in range(30):\n",
    "    print(' '.join(X_test[i]))\n",
    "    print(emoji.emojize(emoji_dictionary[str(np.argmax(Y_test[i]))]))\n",
    "    print(emoji.emojize(emoji_dictionary[str(pred[i])]))"
   ]
  },
  {
   "cell_type": "markdown",
   "metadata": {},
   "source": [
    "## Plotting the confusion matrix"
   ]
  },
  {
   "cell_type": "code",
   "execution_count": 62,
   "metadata": {},
   "outputs": [],
   "source": [
    "from sklearn.metrics import confusion_matrix"
   ]
  },
  {
   "cell_type": "code",
   "execution_count": 64,
   "metadata": {},
   "outputs": [],
   "source": [
    "\"\"\"Use this method directly - \"\"\"\n",
    "import itertools\n",
    "import matplotlib.pyplot as plt\n",
    "def plot_confusion_matrix(cm, classes,\n",
    "                          normalize=False,\n",
    "                          title='Confusion matrix',\n",
    "                          cmap=plt.cm.Blues):\n",
    "    \"\"\"\n",
    "    This function prints and plots the confusion matrix.\n",
    "    Normalization can be applied by setting `normalize=True`.\n",
    "    \"\"\"\n",
    "    if normalize:\n",
    "        cm = cm.astype('float') / cm.sum(axis=1)[:, np.newaxis]\n",
    "        print(\"Normalized confusion matrix\")\n",
    "    else:\n",
    "        print('Confusion matrix, without normalization')\n",
    "\n",
    "    print(cm)\n",
    "\n",
    "    plt.imshow(cm, interpolation='nearest', cmap=cmap)\n",
    "    plt.title(title)\n",
    "    plt.colorbar()\n",
    "    tick_marks = np.arange(len(classes))\n",
    "    plt.xticks(tick_marks, classes, rotation=45)\n",
    "    plt.yticks(tick_marks, classes)\n",
    "\n",
    "    fmt = '.2f' if normalize else 'd'\n",
    "    thresh = cm.max() / 2.\n",
    "    for i, j in itertools.product(range(cm.shape[0]), range(cm.shape[1])):\n",
    "        plt.text(j, i, format(cm[i, j], fmt),\n",
    "                 horizontalalignment=\"center\",\n",
    "                 color=\"white\" if cm[i, j] > thresh else \"black\")\n",
    "\n",
    "    plt.ylabel('True label')\n",
    "    plt.xlabel('Predicted label')\n",
    "    plt.tight_layout()"
   ]
  },
  {
   "cell_type": "code",
   "execution_count": 69,
   "metadata": {},
   "outputs": [
    {
     "name": "stdout",
     "output_type": "stream",
     "text": [
      "[[ 8  1  3  0  0]\n",
      " [ 0  3  2  0  0]\n",
      " [ 3  1 13  0  1]\n",
      " [ 3  2  4  6  0]\n",
      " [ 0  0  1  0  5]]\n"
     ]
    }
   ],
   "source": [
    "cnf_matrix = confusion_matrix(np.argmax(Y_test,axis=1), pred)\n",
    "print(cnf_matrix)"
   ]
  },
  {
   "cell_type": "code",
   "execution_count": 70,
   "metadata": {},
   "outputs": [
    {
     "name": "stdout",
     "output_type": "stream",
     "text": [
      "Confusion matrix, without normalization\n",
      "[[ 8  1  3  0  0]\n",
      " [ 0  3  2  0  0]\n",
      " [ 3  1 13  0  1]\n",
      " [ 3  2  4  6  0]\n",
      " [ 0  0  1  0  5]]\n"
     ]
    },
    {
     "data": {
      "image/png": "[encoded data removed]",
      "text/plain": [
       "<Figure size 432x288 with 2 Axes>"
      ]
     },
     "metadata": {
      "needs_background": "light"
     },
     "output_type": "display_data"
    }
   ],
   "source": [
    "plot_confusion_matrix(cnf_matrix, [0,1,2,3,4], normalize=False, title='Confusion Matrix', cmap=plt.cm.Blues)"
   ]
  },
  {
   "cell_type": "code",
   "execution_count": null,
   "metadata": {},
   "outputs": [],
   "source": []
  }
 ],
 "metadata": {
  "kernelspec": {
   "display_name": "Python 3",
   "language": "python",
   "name": "python3"
  },
  "language_info": {
   "codemirror_mode": {
    "name": "ipython",
    "version": 3
   },
   "file_extension": ".py",
   "mimetype": "text/x-python",
   "name": "python",
   "nbconvert_exporter": "python",
   "pygments_lexer": "ipython3",
   "version": "3.6.8"
  }
 },
 "nbformat": 4,
 "nbformat_minor": 2
}
